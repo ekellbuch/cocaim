{
 "cells": [
  {
   "cell_type": "code",
   "execution_count": null,
   "metadata": {},
   "outputs": [],
   "source": [
    "# General Dependencies\n",
    "import timeit, os\n",
    "import numpy as np\n",
    "import scipy.io as io\n",
    "\n",
    "from denoise import temporal\n",
    "\n",
    "# Preprocessing Dependencies\n",
    "from trefide.utils import psd_noise_estimate\n",
    "\n",
    "# PMD Model Dependencies\n",
    "from trefide.pmd import batch_decompose, batch_recompose, overlapping_batch_decompose, overlapping_batch_recompose\n",
    "\n",
    "# Plot & Video Dependencies\n",
    "import mpdf_plot\n",
    "import matplotlib.pyplot as plt\n",
    "\n",
    "# Plots\n",
    "from trefide.plot import pixelwise_ranks\n",
    "from trefide.extras.util_plot import comparison_plot\n",
    "from trefide.video import write_mpl, play_cv2\n",
    "\n",
    "%load_ext autoreload\n",
    "%autoreload 2"
   ]
  },
  {
   "cell_type": "code",
   "execution_count": null,
   "metadata": {},
   "outputs": [],
   "source": [
    "dx=4\n",
    "ext = \"../trefide\""
   ]
  },
  {
   "cell_type": "code",
   "execution_count": null,
   "metadata": {},
   "outputs": [],
   "source": [
    "# Set Data Information\n",
    "dataset = \"Endoscope\"\n",
    "filename = os.path.join(ext, \"data\", \"pc_blood_vessel_10Hz.npz\")\n",
    "block_height = 16\n",
    "block_width = 16"
   ]
  },
  {
   "cell_type": "code",
   "execution_count": null,
   "metadata": {},
   "outputs": [],
   "source": [
    "mov = np.load(filename)['data'].astype(np.float64).copy()\n",
    "fov_height, fov_width, num_frames = mov.shape\n",
    "num_pixels = fov_height * fov_width"
   ]
  },
  {
   "cell_type": "code",
   "execution_count": null,
   "metadata": {},
   "outputs": [],
   "source": [
    "# Remove Any Nan Pixels\n",
    "mov[np.isnan(mov)] = 0\n",
    "\n",
    "# Remove Pixel-wise Mean\n",
    "mov -= np.mean(mov, axis=-1)[:,:,None]\n",
    "\n",
    "# Normalize By Pixelwise Standard Deviation\n",
    "pixelwise_std = np.reshape(np.sqrt(psd_noise_estimate(np.reshape(mov, (num_pixels, num_frames)))),\n",
    "                           (fov_height, fov_width, 1))\n",
    "mov /= pixelwise_std\n",
    "mov[np.isnan(mov)] = 0"
   ]
  },
  {
   "cell_type": "code",
   "execution_count": null,
   "metadata": {},
   "outputs": [],
   "source": [
    "rank_background = 5\n",
    "max_iters_main = 10\n",
    "max_iters_init = 40\n",
    "consec_failures = 3\n",
    "d_sub=2\n",
    "t_sub=2\n",
    "tol = 5e-3\n",
    "spatial_components_bg,\\\n",
    "temporal_components_bg,\\\n",
    "block_ranks,\\\n",
    "block_indices = batch_decompose(fov_height, fov_width, num_frames,\n",
    "                                mov, fov_height, fov_height,\n",
    "                                rank_background, consec_failures,\n",
    "                                max_iters_main, max_iters_init, tol,\n",
    "                                d_sub=d_sub, t_sub=t_sub)\n",
    "background = np.asarray(batch_recompose(spatial_components_bg,\n",
    "                                        temporal_components_bg,\n",
    "                                        block_ranks,\n",
    "                                        block_indices))\n",
    "foreground = mov - background"
   ]
  },
  {
   "cell_type": "code",
   "execution_count": null,
   "metadata": {},
   "outputs": [],
   "source": [
    "np.savez(\"endoscope_prepared.npz\", mov, background, foreground)"
   ]
  }
 ],
 "metadata": {
  "kernelspec": {
   "display_name": "Python 3",
   "language": "python",
   "name": "python3"
  },
  "language_info": {
   "codemirror_mode": {
    "name": "ipython",
    "version": 3
   },
   "file_extension": ".py",
   "mimetype": "text/x-python",
   "name": "python",
   "nbconvert_exporter": "python",
   "pygments_lexer": "ipython3",
   "version": "3.6.3"
  }
 },
 "nbformat": 4,
 "nbformat_minor": 2
}
