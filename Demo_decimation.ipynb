{
 "cells": [
  {
   "cell_type": "code",
   "execution_count": 1,
   "metadata": {},
   "outputs": [],
   "source": [
    "%load_ext autoreload\n",
    "%autoreload 2\n",
    "%matplotlib inline\n",
    "\n",
    "import time\n",
    "import matplotlib.pyplot as plt\n",
    "\n",
    "import numpy as np\n",
    "\n",
    "import denoise\n",
    "import noise_estimator\n",
    "import util_plot\n",
    "#import caiman as cm"
   ]
  },
  {
   "cell_type": "code",
   "execution_count": 2,
   "metadata": {},
   "outputs": [
    {
     "name": "stdout",
     "output_type": "stream",
     "text": [
      "(60, 80, 2000)\n"
     ]
    }
   ],
   "source": [
    "from skimage import io\n",
    "mov = io.imread('example_movies/demoMovie.tif').transpose([1,2,0])\n",
    "print(mov.shape)"
   ]
  },
  {
   "cell_type": "code",
   "execution_count": 3,
   "metadata": {},
   "outputs": [
    {
     "name": "stdout",
     "output_type": "stream",
     "text": [
      "first 0/4800 pixels\n",
      "first 1000/4800 pixels\n",
      "first 2000/4800 pixels\n",
      "first 3000/4800 pixels\n",
      "first 4000/4800 pixels\n"
     ]
    }
   ],
   "source": [
    "mov_wf = denoise.spatial(mov, gHalf=[2,2])"
   ]
  },
  {
   "cell_type": "code",
   "execution_count": 4,
   "metadata": {},
   "outputs": [],
   "source": [
    "noise_level = denoise.noise_level(mov_wf,\n",
    "                                  range_ff=[0.25,0.5])\n",
    "mov_nn = mov_wf/noise_level[:,:,np.newaxis]"
   ]
  },
  {
   "cell_type": "code",
   "execution_count": null,
   "metadata": {},
   "outputs": [],
   "source": [
    "# spatially decimate\n"
   ]
  },
  {
   "cell_type": "code",
   "execution_count": null,
   "metadata": {},
   "outputs": [],
   "source": [
    "#from l1_trend_filter.l1_tf_C.c_l1_tf import l1_tf# cython\n"
   ]
  },
  {
   "cell_type": "code",
   "execution_count": 12,
   "metadata": {},
   "outputs": [],
   "source": [
    "data_all = mov_nn[:10,:10,:]\n",
    "dims_data =data_all.shape"
   ]
  },
  {
   "cell_type": "code",
   "execution_count": 15,
   "metadata": {},
   "outputs": [],
   "source": [
    "# debug\n",
    "data = data_all.copy()\n",
    "# Remove the mean\n",
    "#mu = data.mean(0, keepdims=True)\n",
    "#data = data - mu\n",
    "data0=data.reshape((np.prod(dims_data[:2]),dims_data[2]))#=data.copy()"
   ]
  },
  {
   "cell_type": "code",
   "execution_count": 16,
   "metadata": {},
   "outputs": [],
   "source": [
    "import greedyPCA as gpca\n",
    "import greedyPCA_raw as gpca_raw\n",
    "\n",
    "confidence=0.999\n",
    "corr=True\n",
    "iterate=False\n",
    "kurto=False\n",
    "maxlag=3\n",
    "mean_th=None\n",
    "mean_th_factor=1.15\n",
    "stim_knots=None\n",
    "stim_delta=200\n",
    "verbose=True"
   ]
  },
  {
   "cell_type": "code",
   "execution_count": 17,
   "metadata": {},
   "outputs": [],
   "source": [
    "data_in = data0.copy()"
   ]
  },
  {
   "cell_type": "code",
   "execution_count": 19,
   "metadata": {},
   "outputs": [],
   "source": []
  },
  {
   "cell_type": "code",
   "execution_count": 19,
   "metadata": {},
   "outputs": [
    {
     "name": "stdout",
     "output_type": "stream",
     "text": [
      "Initialization with 9 components\n",
      "Max # of greedy loops: 15 (relative convergence)\n",
      "*Iteration 0: initialization with 9 components\n",
      "Noise range is 4.166e-03 1.519e-02\n",
      "Iteration 0: begin greedy loops\n",
      "\tIteration 0 loop 0 with 9 components\n",
      "\tupdate V_i in closed form\n",
      "5.621666921498628e-05\n",
      "0.00011187463814692531\n",
      "0.00014621874890953726\n",
      "0.0002031197548668134\n",
      "0.00021536030311525674\n",
      "0.0002059234714702927\n",
      "0.00024062265863121975\n",
      "0.00025129383286673276\n",
      "0.00024868248569764564\n",
      "\tIteration 0 loop 0 error (2.952e+05 + 1.210e+03 + 0.000e+00)= 2.964e+05\n",
      "\tupdate U_j in closed form/regression\n",
      "\tIteration 0 loop 0 error (2.947e+05 + 1.034e+03 + 0.000e+00)= 2.957e+05\n",
      "\n",
      "\tIteration 0 loop 1 with 9 components\n",
      "\tupdate V_i in closed form\n",
      "5.4287032331780764e-05\n",
      "9.738893957237312e-05\n",
      "0.0001167109743411423\n",
      "0.0001381792056375841\n",
      "0.000141744490265407\n",
      "0.00012894219747249962\n",
      "0.00013908022960330374\n",
      "0.00014581867211708034\n",
      "0.0001420267603236802\n",
      "\tIteration 0 loop 1 error (2.945e+05 + 1.043e+03 + 0.000e+00)= 2.955e+05\n",
      "\tupdate U_j in closed form/regression\n",
      "\tIteration 0 loop 1 error (2.944e+05 + 1.049e+03 + 0.000e+00)= 2.955e+05\n",
      "\n",
      "\tIteration 0 loop 2 with 9 components\n",
      "\tupdate V_i in closed form\n",
      "5.4285679031870574e-05\n",
      "9.73419180206532e-05\n",
      "0.00011655337965931639\n",
      "0.00013777523509950033\n",
      "0.0001410760326196662\n",
      "0.00012843935806934164\n",
      "0.00013851047017990068\n",
      "0.00014491352250926867\n",
      "0.00014158482768499\n",
      "\tIteration 0 loop 2 error (2.944e+05 + 1.045e+03 + 0.000e+00)= 2.954e+05\n",
      "\tupdate U_j in closed form/regression\n",
      "\tIteration 0 loop 2 error (2.944e+05 + 1.052e+03 + 0.000e+00)= 2.954e+05\n",
      "\n",
      "\tIteration 0 loop 3 with 9 components\n",
      "\tupdate V_i in closed form\n",
      "5.4285169548553575e-05\n",
      "9.732887522418603e-05\n",
      "0.00011652334483983795\n",
      "0.0001376990529391869\n",
      "0.0001409300420529636\n",
      "0.0001283204137430751\n",
      "0.000138343581596752\n",
      "0.0001446708650778585\n",
      "0.0001414484538604355\n",
      "\tIteration 0 loop 3 error (2.944e+05 + 1.046e+03 + 0.000e+00)= 2.954e+05\n",
      "\tupdate U_j in closed form/regression\n",
      "\tIteration 0 loop 3 error (2.944e+05 + 1.054e+03 + 0.000e+00)= 2.954e+05\n",
      "\n",
      "\tIteration 0 loop 3 end - no significant updates\n",
      "\n",
      "*****Iteration 0 residual search with 9 components\n",
      "\n",
      "Final number of components 9\n",
      "*Final update after 0 iterations\n",
      "\tFinal update of temporal components\n",
      "\tFinal update of spatial components\n"
     ]
    }
   ],
   "source": [
    "plot_en = False\n",
    "decimation_flag=False\n",
    "verbose = True\n",
    "tsub = 1\n",
    "ds = 1\n",
    "max_num_iters=15\n",
    "Y,vt2 = gpca.denoise_components(data0,\n",
    "                                tsub=tsub,\n",
    "                                ds = ds,\n",
    "                                confidence=confidence,\n",
    "                                corr=corr,\n",
    "                                iterate=iterate,\n",
    "                                kurto=kurto,\n",
    "                                maxlag=maxlag,\n",
    "                                mean_th=mean_th,\n",
    "                                max_num_iters=max_num_iters,\n",
    "                                mean_th_factor=mean_th_factor,\n",
    "                                plot_en=plot_en,\n",
    "                                verbose=verbose\n",
    "                                )"
   ]
  },
  {
   "cell_type": "code",
   "execution_count": null,
   "metadata": {},
   "outputs": [],
   "source": []
  },
  {
   "cell_type": "code",
   "execution_count": null,
   "metadata": {},
   "outputs": [],
   "source": [
    "plot_en = False\n",
    "decimation_flag=False\n",
    "verbose = False\n",
    "tsub = 1\n",
    "ds = 1\n",
    "max_num_iters=15\n",
    "Y,vt2 = gpca.denoise_components(data0,\n",
    "                                dims=dims_data,\n",
    "\n",
    "                                tsub=tsub,\n",
    "                                ds = ds,\n",
    "                                confidence=confidence,\n",
    "                                corr=corr,\n",
    "                                iterate=iterate,\n",
    "                                kurto=kurto,\n",
    "                                maxlag=maxlag,\n",
    "                                mean_th=mean_th,\n",
    "                                max_num_iters=max_num_iters,\n",
    "                                mean_th_factor=mean_th_factor,\n",
    "                                plot_en=plot_en,\n",
    "                                verbose=verbose\n",
    "                                )"
   ]
  },
  {
   "cell_type": "code",
   "execution_count": null,
   "metadata": {},
   "outputs": [],
   "source": [
    "plot_en = True\n",
    "decimation_flag=True\n",
    "verbose = True\n",
    "tsub = 2\n",
    "ds = 2\n",
    "max_num_iters=15\n",
    "Y,vt2 = gpca.denoise_components(data0,\n",
    "                                dims=dims_data,\n",
    "                                tsub=tsub,\n",
    "                                ds = ds,\n",
    "                                decimation_flag=decimation_flag,\n",
    "                                confidence=confidence,\n",
    "                                corr=corr,\n",
    "                                iterate=iterate,\n",
    "                                kurto=kurto,\n",
    "                                maxlag=maxlag,\n",
    "                                mean_th=mean_th,\n",
    "                                max_num_iters=max_num_iters,\n",
    "                                mean_th_factor=mean_th_factor,\n",
    "                                plot_en=plot_en,\n",
    "                                verbose=verbose\n",
    "                                )"
   ]
  },
  {
   "cell_type": "code",
   "execution_count": null,
   "metadata": {},
   "outputs": [],
   "source": [
    "plot_en = False\n",
    "decimation_flag=False\n",
    "verbose = False\n",
    "tsub = 1\n",
    "ds = 1\n",
    "max_num_iters=15\n",
    "Y,vt2 = gpca.denoise_components(data0,\n",
    "                                tsub=tsub,\n",
    "                                ds = ds,\n",
    "                                confidence=confidence,\n",
    "                                corr=corr,\n",
    "                                iterate=iterate,\n",
    "                                kurto=kurto,\n",
    "                                maxlag=maxlag,\n",
    "                                mean_th=mean_th,\n",
    "                                max_num_iters=max_num_iters,\n",
    "                                mean_th_factor=mean_th_factor,\n",
    "                                plot_en=plot_en,\n",
    "                                verbose=verbose\n",
    "                                )"
   ]
  },
  {
   "cell_type": "code",
   "execution_count": null,
   "metadata": {},
   "outputs": [],
   "source": [
    "data0.mean()#-3*data0.std()"
   ]
  },
  {
   "cell_type": "code",
   "execution_count": null,
   "metadata": {},
   "outputs": [],
   "source": [
    "data0.mean()"
   ]
  },
  {
   "cell_type": "code",
   "execution_count": null,
   "metadata": {},
   "outputs": [],
   "source": [
    "data0.mean()+3*data0.std()"
   ]
  },
  {
   "cell_type": "code",
   "execution_count": null,
   "metadata": {},
   "outputs": [],
   "source": [
    "data0.max()"
   ]
  },
  {
   "cell_type": "code",
   "execution_count": null,
   "metadata": {},
   "outputs": [],
   "source": [
    "np.sqrt(np.sum((data-data.mean())**2)/(np.prod(data.shape)-1))"
   ]
  },
  {
   "cell_type": "code",
   "execution_count": null,
   "metadata": {},
   "outputs": [],
   "source": [
    "data0.std()"
   ]
  },
  {
   "cell_type": "code",
   "execution_count": null,
   "metadata": {},
   "outputs": [],
   "source": []
  },
  {
   "cell_type": "code",
   "execution_count": null,
   "metadata": {},
   "outputs": [],
   "source": [
    "plot_en = False\n",
    "decimation_flag=False\n",
    "verbose = True\n",
    "tsub = 1\n",
    "ds = 1\n",
    "max_num_iters=5\n",
    "Y,vt2 = gpca.denoise_components(data0,\n",
    "                                tsub=tsub,\n",
    "                                ds = ds,\n",
    "                                confidence=confidence,\n",
    "                                corr=corr,\n",
    "                                iterate=iterate,\n",
    "                                kurto=kurto,\n",
    "                                maxlag=maxlag,\n",
    "                                mean_th=mean_th,\n",
    "                                max_num_iters=max_num_iters,\n",
    "                                mean_th_factor=mean_th_factor,\n",
    "                                plot_en=plot_en,\n",
    "                                verbose=verbose\n",
    "                                )"
   ]
  },
  {
   "cell_type": "code",
   "execution_count": null,
   "metadata": {},
   "outputs": [],
   "source": [
    "import sys"
   ]
  },
  {
   "cell_type": "code",
   "execution_count": null,
   "metadata": {},
   "outputs": [],
   "source": [
    "1.7763568394002505e-15 >= 1e-1"
   ]
  },
  {
   "cell_type": "code",
   "execution_count": null,
   "metadata": {},
   "outputs": [],
   "source": [
    "1.7763568394002505e-15>"
   ]
  },
  {
   "cell_type": "code",
   "execution_count": null,
   "metadata": {},
   "outputs": [],
   "source": [
    "len([])"
   ]
  },
  {
   "cell_type": "code",
   "execution_count": null,
   "metadata": {},
   "outputs": [],
   "source": [
    "# normalizing V_T\n",
    "plot_en = False\n",
    "decimation_flag=False\n",
    "verbose = True\n",
    "tsub = 1\n",
    "ds = 1\n",
    "max_num_iters=10\n",
    "Y,vt2 = gpca.denoise_components(data0,\n",
    "                                tsub=tsub,\n",
    "                                ds = ds,\n",
    "                                confidence=confidence,\n",
    "                                corr=corr,\n",
    "                                iterate=iterate,\n",
    "                                kurto=kurto,\n",
    "                                maxlag=maxlag,\n",
    "                                mean_th=mean_th,\n",
    "                                max_num_iters=max_num_iters,\n",
    "                                mean_th_factor=mean_th_factor,\n",
    "                                plot_en=plot_en,\n",
    "                                verbose=verbose\n",
    "                                )"
   ]
  },
  {
   "cell_type": "code",
   "execution_count": null,
   "metadata": {},
   "outputs": [],
   "source": [
    "plot_en = False\n",
    "decimation_flag=False\n",
    "verbose = True\n",
    "tsub = 1\n",
    "ds = 1\n",
    "max_num_iters=10\n",
    "Y,vt2 = gpca.denoise_components(data0,\n",
    "                                tsub=tsub,\n",
    "                                ds = ds,\n",
    "                                confidence=confidence,\n",
    "                                corr=corr,\n",
    "                                iterate=iterate,\n",
    "                                kurto=kurto,\n",
    "                                maxlag=maxlag,\n",
    "                                mean_th=mean_th,\n",
    "                                max_num_iters=max_num_iters,\n",
    "                                mean_th_factor=mean_th_factor,\n",
    "                                plot_en=plot_en,\n",
    "                                verbose=verbose\n",
    "                                )"
   ]
  },
  {
   "cell_type": "code",
   "execution_count": null,
   "metadata": {},
   "outputs": [],
   "source": []
  },
  {
   "cell_type": "code",
   "execution_count": null,
   "metadata": {},
   "outputs": [],
   "source": []
  },
  {
   "cell_type": "code",
   "execution_count": null,
   "metadata": {},
   "outputs": [],
   "source": []
  },
  {
   "cell_type": "code",
   "execution_count": null,
   "metadata": {},
   "outputs": [],
   "source": [
    "plot_en = False\n",
    "decimation_flag=False\n",
    "verbose = True\n",
    "tsub = 1\n",
    "ds = 1\n",
    "\n",
    "Y,vt2 = gpca.denoise_components(data0,\n",
    "                                tsub=tsub,\n",
    "                                ds = ds,\n",
    "                                confidence=confidence,\n",
    "                                corr=corr,\n",
    "                                iterate=iterate,\n",
    "                                kurto=kurto,\n",
    "                                maxlag=maxlag,\n",
    "                                mean_th=mean_th,\n",
    "                                mean_th_factor=mean_th_factor,\n",
    "                                plot_en=plot_en,\n",
    "                                verbose=verbose\n",
    "                                )"
   ]
  },
  {
   "cell_type": "code",
   "execution_count": null,
   "metadata": {},
   "outputs": [],
   "source": []
  },
  {
   "cell_type": "code",
   "execution_count": null,
   "metadata": {},
   "outputs": [],
   "source": []
  },
  {
   "cell_type": "code",
   "execution_count": null,
   "metadata": {},
   "outputs": [],
   "source": [
    "sum_=np.asarray([0.80609633,0.21668528,0.13085271,0.10857425])\n",
    "norm_=np.asarray([84492.03687447,19663.46359283 ,13907.61209078 ,12266.30388334])\n",
    "lamb_=np.asarray([4063.29956416, 4449.6416982,  4368.56265823, 5316.82650255])"
   ]
  },
  {
   "cell_type": "code",
   "execution_count": null,
   "metadata": {},
   "outputs": [],
   "source": [
    "norm_.sum()"
   ]
  },
  {
   "cell_type": "code",
   "execution_count": null,
   "metadata": {},
   "outputs": [],
   "source": [
    "np.sqrt(norm_)#/norm_.sum()"
   ]
  },
  {
   "cell_type": "code",
   "execution_count": null,
   "metadata": {},
   "outputs": [],
   "source": [
    "norm_.sum()/np.sqrt(norm_).sum()"
   ]
  },
  {
   "cell_type": "code",
   "execution_count": null,
   "metadata": {},
   "outputs": [],
   "source": [
    "np.sqrt(norm_)#/norm_.sum()"
   ]
  },
  {
   "cell_type": "code",
   "execution_count": null,
   "metadata": {},
   "outputs": [],
   "source": [
    "norm_/np.sqrt(norm_).sum()"
   ]
  },
  {
   "cell_type": "code",
   "execution_count": null,
   "metadata": {},
   "outputs": [],
   "source": [
    "(((lamb_)*(norm_)/norm_.sum()*sum_)).sum()"
   ]
  },
  {
   "cell_type": "code",
   "execution_count": null,
   "metadata": {},
   "outputs": [],
   "source": [
    "(((lamb_)*np.sqrt(norm_)/np.sqrt(norm_).sum()*sum_))#.sum()"
   ]
  },
  {
   "cell_type": "code",
   "execution_count": null,
   "metadata": {},
   "outputs": [],
   "source": [
    "np.sqrt(84492.03687447)"
   ]
  },
  {
   "cell_type": "code",
   "execution_count": null,
   "metadata": {},
   "outputs": [],
   "source": [
    "plot_en = False\n",
    "decimation_flag=False\n",
    "verbose = True\n",
    "tsub = 2\n",
    "ds = 2\n",
    "max_num_iters=500\n",
    "Y,vt2 = gpca.denoise_components(data0,\n",
    "                                tsub=tsub,\n",
    "                                ds = ds,\n",
    "                                confidence=confidence,\n",
    "                                corr=corr,\n",
    "                                iterate=iterate,\n",
    "                                kurto=kurto,\n",
    "                                max_num_iters=max_num_iters,\n",
    "                                maxlag=maxlag,\n",
    "                                mean_th=mean_th,\n",
    "                                mean_th_factor=mean_th_factor,\n",
    "                                plot_en=plot_en,\n",
    "                                verbose=verbose\n",
    "                                )"
   ]
  },
  {
   "cell_type": "code",
   "execution_count": null,
   "metadata": {},
   "outputs": [],
   "source": []
  },
  {
   "cell_type": "code",
   "execution_count": null,
   "metadata": {},
   "outputs": [],
   "source": [
    "plot_en = False\n",
    "decimation_flag=False\n",
    "verbose = True\n",
    "tsub = 1\n",
    "ds = 1\n",
    "max_num_iters=5\n",
    "Y,vt2 = gpca.denoise_components(data0,\n",
    "                                tsub=tsub,\n",
    "                                ds = ds,\n",
    "                                confidence=confidence,\n",
    "                                corr=corr,\n",
    "                                iterate=iterate,\n",
    "                                kurto=kurto,\n",
    "                                max_num_iters=max_num_iters,\n",
    "                                maxlag=maxlag,\n",
    "                                mean_th=mean_th,\n",
    "                                mean_th_factor=mean_th_factor,\n",
    "                                plot_en=plot_en,\n",
    "                                verbose=verbose\n",
    "                                )"
   ]
  },
  {
   "cell_type": "code",
   "execution_count": null,
   "metadata": {},
   "outputs": [],
   "source": []
  },
  {
   "cell_type": "code",
   "execution_count": null,
   "metadata": {},
   "outputs": [],
   "source": [
    "plot_en = False\n",
    "decimation_flag=False\n",
    "verbose = True\n",
    "tsub = 1\n",
    "ds = 1\n",
    "\n",
    "Y,vt2 = gpca.denoise_components(data0,\n",
    "                                tsub=tsub,\n",
    "                                ds = ds,\n",
    "                                confidence=confidence,\n",
    "                                corr=corr,\n",
    "                                iterate=iterate,\n",
    "                                kurto=kurto,\n",
    "                                maxlag=maxlag,\n",
    "                                mean_th=mean_th,\n",
    "                                mean_th_factor=mean_th_factor,\n",
    "                                plot_en=plot_en,\n",
    "                                verbose=verbose\n",
    "                                )"
   ]
  },
  {
   "cell_type": "code",
   "execution_count": null,
   "metadata": {},
   "outputs": [],
   "source": [
    "plt.title('Error evaluated after temporal and spatial updates in loop')\n",
    "plt.plot(np.asarray(temp_up))\n",
    "plt.plot(np.asarray(sp_up))\n",
    "plt.legend(['@ temporal','@ spatial'])\n",
    "plt.xticks(np.arange(len(temp_up))[::2])"
   ]
  },
  {
   "cell_type": "code",
   "execution_count": null,
   "metadata": {},
   "outputs": [],
   "source": [
    "#plt.plot(temp_up)\n",
    "#plt.plot(sp_up)\n",
    "plt.title('F_temporal/F_spatial')\n",
    "plt.plot(np.arange(len(temp_up)),np.asarray(temp_up)/np.asarray(sp_up),'.-')\n",
    "plt.xticks(np.arange(len(temp_up))[::2])"
   ]
  },
  {
   "cell_type": "code",
   "execution_count": null,
   "metadata": {},
   "outputs": [],
   "source": [
    "plt.plot(np.asarray(temp_up)-np.asarray(sp_up))\n"
   ]
  },
  {
   "cell_type": "code",
   "execution_count": null,
   "metadata": {},
   "outputs": [],
   "source": [
    "# debug"
   ]
  },
  {
   "cell_type": "code",
   "execution_count": null,
   "metadata": {},
   "outputs": [],
   "source": [
    "if data_all.ndim == 3:\n",
    "    dims = data_all.shape # d1 x d2 x T\n",
    "    data_all = data_all.reshape((np.prod(dims[:2]),dims[2]), order='F')\n",
    "data_all = data_all.T.astype('float32')\n",
    "# In a 2d matrix, we get rid of any broke (inf) pixels\n",
    "# we assume fixed broken across time\n",
    "broken_idx = np.isinf(data_all[0,:])\n",
    "# Work only on good pixels\n",
    "if np.any(broken_idx):\n",
    "    print('broken pixels') if verbose else 0\n",
    "    data = data_all[:, ~broken_idx]\n",
    "else:\n",
    "    data = data_all.copy()\n",
    "# Remove the mean\n",
    "mu = data.mean(0, keepdims=True)\n",
    "data = data - mu\n",
    "data0=data.copy()"
   ]
  },
  {
   "cell_type": "code",
   "execution_count": null,
   "metadata": {},
   "outputs": [],
   "source": [
    "U, s, Vt = gpca.compute_svd(data0.T,\n",
    "                        method='vanilla')"
   ]
  },
  {
   "cell_type": "code",
   "execution_count": null,
   "metadata": {},
   "outputs": [],
   "source": [
    "ctid, mean_th = gpca.find_temporal_component(Vt,\n",
    "                                confidence=confidence,\n",
    "                                corr=corr,\n",
    "                                iterate=iterate,\n",
    "                                kurto=kurto,\n",
    "                                maxlag=maxlag,\n",
    "                                mean_th=mean_th,\n",
    "                                mean_th_factor=mean_th_factor,\n",
    "                                plot_en=plot_en,\n",
    "                                stim_knots=stim_knots,\n",
    "                                stim_delta=stim_delta\n",
    "                                )"
   ]
  },
  {
   "cell_type": "code",
   "execution_count": null,
   "metadata": {},
   "outputs": [],
   "source": [
    "    keep1 = np.where(np.logical_or(ctid[0, :] == 1, ctid[1, :] == 1))[0]\n"
   ]
  },
  {
   "cell_type": "code",
   "execution_count": null,
   "metadata": {},
   "outputs": [],
   "source": [
    "Vt = Vt[keep1,:]\n",
    "\n",
    "U = U[:,keep1].dot(np.eye(len(keep1))*s[keep1.astype(int)])\n"
   ]
  },
  {
   "cell_type": "code",
   "execution_count": null,
   "metadata": {},
   "outputs": [],
   "source": [
    "np.sum(U**2,1)"
   ]
  },
  {
   "cell_type": "code",
   "execution_count": null,
   "metadata": {},
   "outputs": [],
   "source": []
  },
  {
   "cell_type": "code",
   "execution_count": null,
   "metadata": {},
   "outputs": [],
   "source": []
  },
  {
   "cell_type": "code",
   "execution_count": null,
   "metadata": {},
   "outputs": [],
   "source": []
  },
  {
   "cell_type": "code",
   "execution_count": null,
   "metadata": {},
   "outputs": [],
   "source": [
    "plot_en = False\n",
    "decimation_flag=False\n",
    "verbose = True\n",
    "tsub = 1\n",
    "ds = 1\n",
    "max_num_iters=20\n",
    "Y,vt2 = gpca.denoise_components(data_all,\n",
    "                                tsub=tsub,\n",
    "                                ds = ds,\n",
    "                                decimation_flag=decimation_flag,\n",
    "                                confidence=confidence,\n",
    "                                corr=corr,\n",
    "                                iterate=iterate,\n",
    "                                kurto=kurto,\n",
    "                                maxlag=maxlag,\n",
    "                                mean_th=mean_th,\n",
    "                                max_num_iters=max_num_iters,\n",
    "                                mean_th_factor=mean_th_factor,\n",
    "                                plot_en=plot_en,\n",
    "                                stim_knots=stim_knots,\n",
    "                                stim_delta=stim_delta,\n",
    "                                verbose=verbose\n",
    "                                )"
   ]
  },
  {
   "cell_type": "code",
   "execution_count": null,
   "metadata": {},
   "outputs": [],
   "source": []
  },
  {
   "cell_type": "code",
   "execution_count": null,
   "metadata": {},
   "outputs": [],
   "source": [
    "plot_en = False\n",
    "decimation_flag=True\n",
    "verbose = False\n",
    "tsub = 2\n",
    "ds = 2\n",
    "\n",
    "Y,vt2 = gpca.denoise_components(data_all,\n",
    "                                tsub=tsub,\n",
    "                                ds = ds,\n",
    "                                decimation_flag=decimation_flag,\n",
    "                                confidence=confidence,\n",
    "                                corr=corr,\n",
    "                                iterate=iterate,\n",
    "                                kurto=kurto,\n",
    "                                maxlag=maxlag,\n",
    "                                mean_th=mean_th,\n",
    "                                mean_th_factor=mean_th_factor,\n",
    "                                plot_en=plot_en,\n",
    "                                stim_knots=stim_knots,\n",
    "                                stim_delta=stim_delta,\n",
    "                                verbose=verbose\n",
    "                                )"
   ]
  },
  {
   "cell_type": "code",
   "execution_count": null,
   "metadata": {},
   "outputs": [],
   "source": []
  },
  {
   "cell_type": "code",
   "execution_count": null,
   "metadata": {},
   "outputs": [],
   "source": [
    "# spatially decimate\n",
    "ds=1\n",
    "data0_ds = gpca.spatial_decimation(data0,\n",
    "                        ds=ds,\n",
    "                        dims=dims)\n",
    "    \n",
    "pca_method='vanilla'\n",
    "U, s, Vt = gpca.compute_svd(data0_ds.T,\n",
    "                        method=pca_method)"
   ]
  },
  {
   "cell_type": "code",
   "execution_count": null,
   "metadata": {},
   "outputs": [],
   "source": [
    "ctid, mean_th = gpca.find_temporal_component(Vt,\n",
    "                                    confidence=confidence,\n",
    "                                    corr=corr,\n",
    "                                    iterate=iterate,\n",
    "                                    kurto=kurto,\n",
    "                                    maxlag=maxlag,\n",
    "                                    mean_th=mean_th,\n",
    "                                    mean_th_factor=mean_th_factor,\n",
    "                                    plot_en=plot_en,\n",
    "                                    stim_knots=stim_knots,\n",
    "                                    stim_delta=stim_delta\n",
    "                                    )\n",
    "keep1 = np.where(np.logical_or(ctid[0, :] == 1, ctid[1, :] == 1))[0]\n"
   ]
  },
  {
   "cell_type": "code",
   "execution_count": null,
   "metadata": {},
   "outputs": [],
   "source": [
    "Vt = Vt[keep1,:]\n",
    "U = U[:,keep1].dot(np.eye(len(keep1))*s[keep1.astype(int)])\n",
    "\n",
    "V_hat=Vt.copy()"
   ]
  },
  {
   "cell_type": "code",
   "execution_count": null,
   "metadata": {},
   "outputs": [],
   "source": [
    "num_components, T = V_hat.shape\n"
   ]
  },
  {
   "cell_type": "code",
   "execution_count": null,
   "metadata": {},
   "outputs": [],
   "source": [
    "solver='SCS'\n",
    "constraint_segmented=False\n",
    "fudge_factor =1\n",
    "\n",
    "V_TF,region_indices,lambdas_= gpca.greedy_temporal_denoiser(V_hat,\n",
    "                                                       solver=solver,\n",
    "                                                       constraint_segmented=constraint_segmented,\n",
    "                                                       fudge_factor=fudge_factor,\n",
    "                                                       verbose=verbose\n",
    "                                                      )"
   ]
  },
  {
   "cell_type": "code",
   "execution_count": null,
   "metadata": {},
   "outputs": [],
   "source": [
    "U_update = False\n",
    "U_hat, nus_ = gpca.greedy_spatial_denoiser(Y,\n",
    "                                      V_TF,\n",
    "                                      fudge_factor=fudge_factor,\n",
    "                                      U_update=U_update,\n",
    "                                      dims=dims,\n",
    "                                      plot_en=plot_en)"
   ]
  },
  {
   "cell_type": "code",
   "execution_count": null,
   "metadata": {},
   "outputs": [],
   "source": [
    "plt.plot(V_hat[0,:])\n",
    "plt.plot(V_TF[0,:])"
   ]
  },
  {
   "cell_type": "code",
   "execution_count": null,
   "metadata": {},
   "outputs": [],
   "source": [
    "lambdas_2 = (lambdas_) * (U_hat**2).sum(axis=0)\n",
    "#lambdas_2 = (U_hat**2).sum(axis=0)/lambdas_"
   ]
  },
  {
   "cell_type": "code",
   "execution_count": null,
   "metadata": {},
   "outputs": [],
   "source": [
    "plot_en=True\n",
    "V_TF = gpca.iterative_temporal_denoiser(Y,\n",
    "                                   U_hat,\n",
    "                                   V_TF,\n",
    "                                   solver=solver,\n",
    "                                   lambdas_=lambdas_2,\n",
    "                                   region_indices=region_indices,\n",
    "                                   plot_en=plot_en,\n",
    "                                   verbose=verbose,\n",
    "                                   constraint_segmented=constraint_segmented,\n",
    "                                   fudge_factor=fudge_factor)"
   ]
  },
  {
   "cell_type": "code",
   "execution_count": null,
   "metadata": {},
   "outputs": [],
   "source": [
    "#from skimage.transform import downscale_local_mean\n",
    "#ds = 2\n",
    "#mov_nn2 = downscale_local_mean(mov_nn, (ds, ds, 1))"
   ]
  },
  {
   "cell_type": "code",
   "execution_count": null,
   "metadata": {},
   "outputs": [],
   "source": [
    "data_all = mov_nn[:10,:10,:]"
   ]
  },
  {
   "cell_type": "code",
   "execution_count": null,
   "metadata": {},
   "outputs": [],
   "source": []
  },
  {
   "cell_type": "code",
   "execution_count": null,
   "metadata": {},
   "outputs": [],
   "source": []
  },
  {
   "cell_type": "code",
   "execution_count": null,
   "metadata": {},
   "outputs": [],
   "source": [
    "data_all.shape"
   ]
  },
  {
   "cell_type": "code",
   "execution_count": null,
   "metadata": {},
   "outputs": [],
   "source": [
    "from l1_trend_filter.l1_tf_C.c_l1_tf import l1_tf"
   ]
  },
  {
   "cell_type": "code",
   "execution_count": null,
   "metadata": {},
   "outputs": [],
   "source": [
    "def l1_tf(double[::1] data_,\n",
    "          double lambda_,\n",
    "          bool max_lambda,\n",
    "          int MAXITER,\n",
    "          int verbose):"
   ]
  },
  {
   "cell_type": "code",
   "execution_count": null,
   "metadata": {},
   "outputs": [],
   "source": []
  },
  {
   "cell_type": "code",
   "execution_count": null,
   "metadata": {},
   "outputs": [],
   "source": []
  },
  {
   "cell_type": "code",
   "execution_count": null,
   "metadata": {},
   "outputs": [],
   "source": []
  },
  {
   "cell_type": "code",
   "execution_count": null,
   "metadata": {},
   "outputs": [],
   "source": [
    "if data_all.ndim == 3:\n",
    "    dims = data_all.shape # d1 x d2 x T\n",
    "    data_all = data_all.reshape((np.prod(dims[:2]),dims[2]), order='F')\n",
    "data_all = data_all.T.astype('float32')"
   ]
  },
  {
   "cell_type": "code",
   "execution_count": null,
   "metadata": {},
   "outputs": [],
   "source": []
  },
  {
   "cell_type": "code",
   "execution_count": null,
   "metadata": {},
   "outputs": [],
   "source": []
  },
  {
   "cell_type": "code",
   "execution_count": null,
   "metadata": {},
   "outputs": [],
   "source": [
    "\n",
    "keep1 = gpca.find_temporal_component(Vt,\n",
    "                                    confidence=confidence,\n",
    "                                    corr=corr,\n",
    "                                    iterate=iterate,\n",
    "                                    kurto=kurto,\n",
    "                                    maxlag=maxlag,\n",
    "                                    mean_th=mean_th,\n",
    "                                    mean_th_factor=mean_th_factor,\n",
    "                                    plot_en=plot_en,\n",
    "                                    stim_knots=stim_knots,\n",
    "                                    stim_delta=stim_delta\n",
    "                                    )\n",
    " "
   ]
  },
  {
   "cell_type": "code",
   "execution_count": null,
   "metadata": {},
   "outputs": [],
   "source": [
    "U_2, Vt_2 = gpca.decimation_interpolation(data0_ds.T,\n",
    "                            dims=dims,\n",
    "                            ds=ds,\n",
    "                            tsub=tsub,\n",
    "                            rank=len(keep1)\n",
    "                            )"
   ]
  },
  {
   "cell_type": "code",
   "execution_count": null,
   "metadata": {},
   "outputs": [],
   "source": [
    "U[:,keep1].dot(np.diag(s[keep1])).shape"
   ]
  },
  {
   "cell_type": "code",
   "execution_count": null,
   "metadata": {},
   "outputs": [],
   "source": [
    "U_2[:,:,im].shape"
   ]
  },
  {
   "cell_type": "code",
   "execution_count": null,
   "metadata": {},
   "outputs": [],
   "source": [
    "for im in range(len(keep1)):\n",
    "    plt.imshow(U_2[:,:,im])\n",
    "    plt.show()"
   ]
  },
  {
   "cell_type": "code",
   "execution_count": null,
   "metadata": {},
   "outputs": [],
   "source": [
    "for im in range(len(keep1)):\n",
    "    plt.imshow(U_2[:,:,im])\n",
    "    plt.show()"
   ]
  },
  {
   "cell_type": "code",
   "execution_count": null,
   "metadata": {},
   "outputs": [],
   "source": [
    "x_interp=np.linspace(0,dims[2],dims[2])"
   ]
  },
  {
   "cell_type": "code",
   "execution_count": null,
   "metadata": {},
   "outputs": [],
   "source": [
    "xp_ = x_interp[::tsub]"
   ]
  },
  {
   "cell_type": "code",
   "execution_count": null,
   "metadata": {},
   "outputs": [],
   "source": [
    "Vt_2.shape"
   ]
  },
  {
   "cell_type": "code",
   "execution_count": null,
   "metadata": {},
   "outputs": [],
   "source": [
    "yp_ = Vt_2[0,:]"
   ]
  },
  {
   "cell_type": "code",
   "execution_count": null,
   "metadata": {},
   "outputs": [],
   "source": [
    "plt.plot(yp_)"
   ]
  },
  {
   "cell_type": "code",
   "execution_count": null,
   "metadata": {},
   "outputs": [],
   "source": [
    "plt.plot(np.interp(x_interp,xp_,yp_))"
   ]
  },
  {
   "cell_type": "code",
   "execution_count": null,
   "metadata": {},
   "outputs": [],
   "source": [
    "import greedyPCA as gpca\n",
    "ds=2\n",
    "data0_ds = gpca.spatial_decimation(data0,\n",
    "                        ds=ds,\n",
    "                        dims=dims)"
   ]
  },
  {
   "cell_type": "code",
   "execution_count": null,
   "metadata": {},
   "outputs": [],
   "source": [
    "plt.imshow(util_plot.local_correlations_fft(mov_nn))"
   ]
  },
  {
   "cell_type": "code",
   "execution_count": null,
   "metadata": {},
   "outputs": [],
   "source": [
    "plt.imshow(util_plot.local_correlations_fft(mov_nn2))"
   ]
  },
  {
   "cell_type": "code",
   "execution_count": null,
   "metadata": {},
   "outputs": [],
   "source": [
    "import tool_grid \n",
    "nblocks=[4,4]\n",
    "dims= mov_nn.shape\n",
    "nblocks, dW_, dW_rs, dW_cs, dW_rcs, dims_, dims_rs, dims_cs, dims_rcs = tool_grid.denoise_dx_tiles(mov_nn,\n",
    "                               nblocks=nblocks,dx=4)\n",
    "ak0,ak1,ak2,ak3 = tool_grid.combine_4xd(nblocks,dW_,dW_rs,dW_cs,dW_rcs,dims_,dims_rs,dims_cs,dims_rcs,plot_en=True)\n",
    "\n",
    "row_array,col_array = tool_grid.tile_grids(dims,nblocks)\n",
    "\n",
    "r_offset = tool_grid.vector_offset(row_array)\n",
    "c_offset = tool_grid.vector_offset(col_array)\n",
    "\n",
    "r1, r2 = (row_array[1:]-r_offset)[[0,-1]]\n",
    "c1, c2 = (col_array[1:]-c_offset)[[0,-1]]\n",
    "\n",
    "    \n",
    "W1 = np.zeros(dims)\n",
    "W2 = np.zeros(dims)\n",
    "W3 = np.zeros(dims)\n",
    "W1[r1:r2,:,:] = dW_rs\n",
    "W2[:,c1:c2,:] = dW_cs\n",
    "W3[r1:r2,c1:c2,:] = dW_rcs\n",
    "#tool_grid.test_off_grids(mov_nn,nblocks=[10,10])\n",
    "W_hat = ak0[:,:,np.newaxis]*dW_\n",
    "W_hat += ak1[:,:,np.newaxis]*W1\n",
    "W_hat += ak2[:,:,np.newaxis]*W2\n",
    "W_hat += ak3[:,:,np.newaxis]*W3\n",
    "W_hat /= (ak0+ak1+ak2+ak3)[:,:,np.newaxis]\n",
    "print((mov_nn-W_hat).max())\n",
    "if False:\n",
    "    util_plot.comparison_plot([mov_nn, W_hat],\n",
    "                              option='corr',\n",
    "                              titles_=['W Movie', 'vPCA Movie'],\n",
    "                              plot_orientation='vertical',\n",
    "                              cbar_orientation='horizontal'\n",
    "                             )"
   ]
  },
  {
   "cell_type": "code",
   "execution_count": null,
   "metadata": {},
   "outputs": [],
   "source": [
    "mov_nn2.shape"
   ]
  },
  {
   "cell_type": "code",
   "execution_count": null,
   "metadata": {},
   "outputs": [],
   "source": [
    "mov_nn2.reshape()"
   ]
  },
  {
   "cell_type": "code",
   "execution_count": null,
   "metadata": {},
   "outputs": [],
   "source": []
  }
 ],
 "metadata": {
  "kernelspec": {
   "display_name": "Python 3",
   "language": "python",
   "name": "python3"
  },
  "language_info": {
   "codemirror_mode": {
    "name": "ipython",
    "version": 3
   },
   "file_extension": ".py",
   "mimetype": "text/x-python",
   "name": "python",
   "nbconvert_exporter": "python",
   "pygments_lexer": "ipython3",
   "version": "3.6.4"
  }
 },
 "nbformat": 4,
 "nbformat_minor": 2
}
