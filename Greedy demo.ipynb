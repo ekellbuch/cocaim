{
 "cells": [
  {
   "cell_type": "code",
   "execution_count": null,
   "metadata": {},
   "outputs": [],
   "source": [
    "%load_ext autoreload\n",
    "%autoreload 2\n",
    "\n",
    "import numpy as np\n",
    "import sys\n",
    "import os\n",
    "sys.path.append(\"../\")\n",
    "import matplotlib.pyplot as plt\n",
    "import time"
   ]
  },
  {
   "cell_type": "code",
   "execution_count": null,
   "metadata": {},
   "outputs": [],
   "source": [
    "import preprocess_blockSVD as pre_svd\n",
    "import trefide as tfd\n",
    "import spatial_filtering as sp_filters\n",
    "#from sklearn.metrics import mean_squared_error\n",
    "from sklearn import preprocessing\n",
    "#import scipy as sp\n",
    "import tools as tools\n",
    "import cvxpy as cp\n",
    "import caiman as cm\n"
   ]
  },
  {
   "cell_type": "code",
   "execution_count": null,
   "metadata": {},
   "outputs": [],
   "source": [
    "import h5py\n",
    "\n",
    "project_dir = '/data/lab/Dropbox/QState_IntrinsicExcitability/'\n",
    "fname = 'IntrinsicExcitability_movie017.mat'\n",
    "#data = sio.loadmat(project_dir+fname)\n",
    "with h5py.File(os.path.join(project_dir, fname)) as f:\n",
    "    m_orig = f['mov']['data'].value.T\n",
    "    sampleRate = f['mov']['sampleRate'].value\n",
    "    sampleRate_units = f['mov']['sampleRate_units'].value\n",
    "    print(list(f['mov'].keys()))"
   ]
  },
  {
   "cell_type": "code",
   "execution_count": null,
   "metadata": {},
   "outputs": [],
   "source": [
    "print(m_orig.shape)\n",
    "m_orig_ = m_orig[5:-5,150:220,2100:3000].transpose([2,0,1])\n",
    "print(m_orig_.shape)\n",
    "plt.imshow(m_orig_[0,:,:])"
   ]
  },
  {
   "cell_type": "code",
   "execution_count": null,
   "metadata": {},
   "outputs": [],
   "source": [
    "def remove_trend(Y_rm,detrend_option='linear'):\n",
    "    mean_pixel = Y_rm.mean(axis=1,keepdims=True)\n",
    "    Y_rm2 = Y_rm - mean_pixel\n",
    "    # Detrend linear \n",
    "    if detrend_option=='linear':\n",
    "        detr_data = sp.signal.detrend(Y_rm2[:,:],axis=1,type='l')\n",
    "    elif detrend_option=='quad':\n",
    "        detr_data = detrend(Y_rm)\n",
    "    Y_det = detr_data + mean_pixel\n",
    "    offset = Y_rm - Y_det\n",
    "    return Y_det, offset"
   ]
  },
  {
   "cell_type": "code",
   "execution_count": null,
   "metadata": {},
   "outputs": [],
   "source": [
    "fig = plt.figure(figsize=(10,5))\n",
    "plt.plot(m_orig_[:,0,0])"
   ]
  },
  {
   "cell_type": "code",
   "execution_count": null,
   "metadata": {},
   "outputs": [],
   "source": [
    "Frame = cm.movie(m_orig_)#[100:5100,1:-5,28:]\n",
    "Frame.play(gain=5, fr=10, magnification=5)"
   ]
  },
  {
   "cell_type": "code",
   "execution_count": null,
   "metadata": {},
   "outputs": [],
   "source": [
    "images_ = m_orig_.transpose([1,2,0])\n",
    "dims = images_.shape\n",
    "print(dims)"
   ]
  },
  {
   "cell_type": "code",
   "execution_count": null,
   "metadata": {},
   "outputs": [],
   "source": [
    "# Caserati representation d x T\n",
    "images_r = images_.reshape((np.prod(dims[:2]),dims[2]),order='F')\n",
    "\n",
    "# if temporal downsampling\n",
    "if False:\n",
    "    ts = 5\n",
    "    images_r = pre_svd.temporal_decimation(images_r.T,ts).T\n",
    "    dims = dims[0], dims[1], dims[2]//ts\n",
    "# get rid of trend\n",
    "if True:\n",
    "    images_detr, offset = tools.remove_trend(images_r)\n",
    "    images_r = images_detr.copy()\n",
    "else:\n",
    "    offset = np.zeros(images_r.shape)"
   ]
  },
  {
   "cell_type": "code",
   "execution_count": null,
   "metadata": {},
   "outputs": [],
   "source": [
    "# Run wiener filter\n",
    "if True:\n",
    "    # run WF on Y\n",
    "    images_wf,_ = sp_filters.spatial_filter_image(images_r.reshape(dims,order='F'))\n",
    "    # cm.movie(images_wf).transpose([2,0,1]).play(magnification=10)\n",
    "    images_wf = images_wf.reshape((np.prod(dims[:2]),dims[2]),order='F')\n",
    "else:\n",
    "    images_wf = images_r.copy()"
   ]
  },
  {
   "cell_type": "code",
   "execution_count": null,
   "metadata": {},
   "outputs": [],
   "source": [
    "plt.imshow(images_wf.reshape(dims,order='F')[:,:,0])\n",
    "plt.colorbar()"
   ]
  },
  {
   "cell_type": "code",
   "execution_count": null,
   "metadata": {},
   "outputs": [],
   "source": [
    "# subtract off the mean,\n",
    "mean_px = images_wf.mean(1,keepdims=True)\n",
    "images_wf = images_wf - mean_px\n",
    "if True:\n",
    "    # compute noise level\n",
    "    # and normalize each pixel to have unit noise level\n",
    "    noise_level = sp_filters.noise_estimator(images_wf[:,:],range_ff=[0.25,0.5])\n",
    "    image_= images_wf/noise_level[:,np.newaxis]\n",
    "    # confirm noise variance =1 in each pixel\n",
    "    tmp_ = sp_filters.noise_estimator(image_[:,:],range_ff=[0.25,0.5])\n",
    "    print(tmp_.min())\n",
    "    print(tmp_.max())\n",
    "else:\n",
    "    image_ = images_wf"
   ]
  },
  {
   "cell_type": "code",
   "execution_count": null,
   "metadata": {},
   "outputs": [],
   "source": [
    "plt.imshow(noise_level.reshape(dims[:2],order='F'))\n",
    "plt.colorbar()\n",
    "plt.show()\n",
    "plt.imshow(tmp_.reshape(dims[:2],order='F')-1)\n",
    "plt.colorbar()"
   ]
  },
  {
   "cell_type": "code",
   "execution_count": null,
   "metadata": {},
   "outputs": [],
   "source": [
    "# extract background (WF and 1p data)\n",
    "if False:\n",
    "    U,s,Vt = pre_svd.compute_svd(image_,method='randomized',n_components=2)\n",
    "    movie_rank2 = U.dot(np.diag(s).dot(Vt))\n",
    "    residual = image_ - movie_rank2\n",
    "    W = residual.reshape(dims,order='F')\n",
    "else:\n",
    "    W = image_.reshape(dims,order='F')"
   ]
  },
  {
   "cell_type": "code",
   "execution_count": null,
   "metadata": {},
   "outputs": [],
   "source": [
    "k = 25"
   ]
  },
  {
   "cell_type": "code",
   "execution_count": null,
   "metadata": {},
   "outputs": [],
   "source": [
    "maxlag = 5#5\n",
    "confidence = 0.95\n",
    "min_rank = 1\n",
    "Yd1,_ = pre_svd.svd_patch(W,k=k,maxlag=maxlag,confidence=confidence,\n",
    "                                greedy=False,fudge_factor=1,\n",
    "                                 mean_th_factor=2.,min_rank=min_rank)"
   ]
  },
  {
   "cell_type": "code",
   "execution_count": null,
   "metadata": {},
   "outputs": [],
   "source": [
    "# greedy for a single tile (~ neuron size)\n",
    "patches = pre_svd.split_image_into_blocks(W,k)\n",
    "start= time.time()\n",
    "b,_ = pre_svd.compress_dblocks(patches[1],\n",
    "                                maxlag=maxlag,confidence=confidence,\n",
    "                                greedy=True,fudge_factor=0.9,\n",
    "                                mean_th_factor=2,U_update=True,\n",
    "                              verbose=True,plot_en=True,min_rank=1)\n",
    "print('Run for %.f'%(time.time()-start))\n"
   ]
  },
  {
   "cell_type": "code",
   "execution_count": null,
   "metadata": {},
   "outputs": [],
   "source": [
    "Yd,_ = pre_svd.svd_patch(W,k=k,maxlag=maxlag,confidence=confidence,\n",
    "                         greedy=True,fudge_factor=0.9,mean_th_factor=2,min_rank=1,\n",
    "                         U_update=True,plot_en=False)"
   ]
  },
  {
   "cell_type": "code",
   "execution_count": null,
   "metadata": {},
   "outputs": [],
   "source": [
    "def redo_(W_,dims,noise_level,mean_px):\n",
    "    W = W_.reshape((np.prod(dims[:2]),dims[2]),order='F').copy()\n",
    "    W= W*noise_level[:,np.newaxis]\n",
    "    W+= mean_px\n",
    "    W = W.reshape(dims,order='F')\n",
    "    return W"
   ]
  },
  {
   "cell_type": "code",
   "execution_count": null,
   "metadata": {},
   "outputs": [],
   "source": [
    "# reconstruct matrix from Yd\n",
    "images_rd_= images_r.reshape(dims,order='F')\n",
    "Yd1_ = redo_(Yd1,dims,noise_level,mean_px) #vanilla\n",
    "Yd_ = redo_(Yd,dims,noise_level,mean_px) #greedy"
   ]
  },
  {
   "cell_type": "code",
   "execution_count": null,
   "metadata": {},
   "outputs": [],
   "source": [
    "M1 = cm.movie(np.asarray(images_rd_).transpose([2,0,1]))\n",
    "M2 = cm.movie(np.asarray(Yd1_).transpose([2,0,1]))\n",
    "M3 = cm.movie(np.asarray(Yd_).transpose([2,0,1]))\n",
    "\n",
    "M4  = M1 - M2\n",
    "M5  = M1 - M3\n",
    "\n",
    "MZ = np.zeros(M1.shape)\n",
    "if False:\n",
    "    M1 = M1-M1.min(0,keepdims=True)\n",
    "    M2 = M2-M2.min(0,keepdims=True)\n",
    "    M3 = M3-M3.min(0,keepdims=True)\n",
    "    M4 = M4-M4.min(0,keepdims=True)\n",
    "    M5 = M5-M5.min(0,keepdims=True)\n",
    "\n",
    "cm.concatenate([\n",
    "    cm.concatenate([M1,M2,M3],axis=2),\n",
    "    cm.concatenate([MZ,M4,M5],axis=2)\n",
    "    ],axis=1).play(gain=1,magnification=4)"
   ]
  }
 ],
 "metadata": {
  "kernelspec": {
   "display_name": "Python 3",
   "language": "python",
   "name": "python3"
  },
  "language_info": {
   "codemirror_mode": {
    "name": "ipython",
    "version": 3
   },
   "file_extension": ".py",
   "mimetype": "text/x-python",
   "name": "python",
   "nbconvert_exporter": "python",
   "pygments_lexer": "ipython3",
   "version": "3.6.3"
  }
 },
 "nbformat": 4,
 "nbformat_minor": 2
}
