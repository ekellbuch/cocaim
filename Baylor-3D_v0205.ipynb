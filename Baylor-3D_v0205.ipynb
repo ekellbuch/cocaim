{
 "cells": [
  {
   "cell_type": "code",
   "execution_count": 1,
   "metadata": {},
   "outputs": [
    {
     "name": "stderr",
     "output_type": "stream",
     "text": [
      "/home/ekellbuch/miniconda2/envs/volcaim/lib/python3.6/site-packages/h5py/__init__.py:36: FutureWarning: Conversion of the second argument of issubdtype from `float` to `np.floating` is deprecated. In future, it will be treated as `np.float64 == np.dtype(float).type`.\n",
      "  from ._conv import register_converters as _register_converters\n"
     ]
    }
   ],
   "source": [
    "%load_ext autoreload\n",
    "%autoreload 2\n",
    "\n",
    "import numpy as np\n",
    "import sys\n",
    "import os\n",
    "sys.path.append(\"../\")\n",
    "import matplotlib.pyplot as plt\n",
    "import time\n",
    "import h5py"
   ]
  },
  {
   "cell_type": "code",
   "execution_count": 2,
   "metadata": {},
   "outputs": [],
   "source": [
    "import preprocess_blockSVD as pre_svd\n",
    "import trefide as tfd\n",
    "import spatial_filtering as sp_filters\n",
    "#from sklearn.metrics import mean_squared_error\n",
    "from sklearn import preprocessing\n",
    "#import scipy as sp\n",
    "import tools as tools\n",
    "import cvxpy as cp\n",
    "import caiman as cm\n"
   ]
  },
  {
   "cell_type": "code",
   "execution_count": null,
   "metadata": {},
   "outputs": [],
   "source": [
    "m_orig1 = cm.load_movie_chain(['scan1_slice1_block1_crop_long'+'_rig.tif'])\n",
    "m_orig2 = cm.load_movie_chain(['scan1_slice2_block1_crop_long'+'_rig.tif'])\n",
    "m_orig3 = cm.load_movie_chain(['scan1_slice3_block1_crop_long'+'_rig.tif'])\n"
   ]
  },
  {
   "cell_type": "code",
   "execution_count": null,
   "metadata": {},
   "outputs": [],
   "source": [
    "plt.figure(figsize=(20,5))\n",
    "plt.plot(m_orig1[:,60,50])\n",
    "m_orig = np.concatenate([m_orig1[:,5:-5,5:-5],\n",
    "                     m_orig2[:,5:-5,5:-5],\n",
    "                     m_orig3[:,5:-5,5:-5]],axis=1)"
   ]
  },
  {
   "cell_type": "code",
   "execution_count": null,
   "metadata": {},
   "outputs": [],
   "source": [
    "#m_orig1[:,5:85,5:85].play(magnification=3)"
   ]
  },
  {
   "cell_type": "code",
   "execution_count": null,
   "metadata": {},
   "outputs": [],
   "source": [
    "def pre_wf(images_):\n",
    "    images_ = np.asarray(images_)\n",
    "    dims = images_.shape\n",
    "    images_r = images_.reshape((np.prod(dims[:2]),dims[2]),order='F')\n",
    "    if False:\n",
    "        # run WF on Y\n",
    "        images_wf,_ = sp_filters.spatial_filter_image(images_r.reshape(dims,order='F'))\n",
    "        # cm.movie(images_wf).transpose([2,0,1]).play(magnification=10)\n",
    "        images_wf = images_wf.reshape((np.prod(dims[:2]),dims[2]),order='F')\n",
    "    else:\n",
    "        images_wf = images_r.copy()\n",
    "    return images_wf"
   ]
  },
  {
   "cell_type": "code",
   "execution_count": null,
   "metadata": {},
   "outputs": [],
   "source": [
    "images_1 = m_orig1[:,5:85,5:85].transpose([1,2,0])\n",
    "images_2 = m_orig2[:,5:85,5:85].transpose([1,2,0])\n",
    "images_3 = m_orig3[:,5:85,5:85].transpose([1,2,0])\n",
    "\n",
    "images_wf1 = pre_wf(images_1)\n",
    "images_wf2 = pre_wf(images_2)\n",
    "images_wf3 = pre_wf(images_3)"
   ]
  },
  {
   "cell_type": "code",
   "execution_count": null,
   "metadata": {},
   "outputs": [],
   "source": [
    "def noise_norm(images_wf):\n",
    "    # subtract off the mean,\n",
    "    mean_px = images_wf.mean(1,keepdims=True)\n",
    "    images_wf = images_wf - mean_px\n",
    "    if True:\n",
    "        # compute noise level\n",
    "        # and normalize each pixel to have unit noise level\n",
    "        noise_level = sp_filters.noise_estimator(images_wf[:,:],range_ff=[0.25,0.5])\n",
    "        image_= images_wf/noise_level[:,np.newaxis]\n",
    "        # confirm noise variance =1 in each pixel\n",
    "        tmp_ = sp_filters.noise_estimator(image_[:,:],range_ff=[0.25,0.5])\n",
    "        print(tmp_.min())\n",
    "        print(tmp_.max())\n",
    "    else:\n",
    "        image_ = images_wf\n",
    "        \n",
    "    if True:\n",
    "        plt.imshow(noise_level.reshape(dims[:2],order='F'))\n",
    "        plt.colorbar()\n",
    "        plt.show()\n",
    "        plt.imshow(tmp_.reshape(dims[:2],order='F')-1)\n",
    "        plt.colorbar()\n",
    "        plt.show()\n",
    "    \n",
    "    return image_,mean_px, noise_level\n",
    "\n"
   ]
  },
  {
   "cell_type": "code",
   "execution_count": null,
   "metadata": {},
   "outputs": [],
   "source": [
    "W1, mean_px1, nl1= noise_norm(images_wf1)\n",
    "W2, mean_px2, nl2= noise_norm(images_wf2)\n",
    "W3, mean_px3, nl3= noise_norm(images_wf3)"
   ]
  },
  {
   "cell_type": "code",
   "execution_count": null,
   "metadata": {},
   "outputs": [],
   "source": [
    "if False:\n",
    "    k = 100 # pixel by pixel dims\n",
    "    maxlag = 10#5\n",
    "    confidence = 0.99\n",
    "    min_rank = 1\n",
    "    plot_en = False\n",
    "    verbose = False\n",
    "    U_update = False"
   ]
  },
  {
   "cell_type": "code",
   "execution_count": null,
   "metadata": {},
   "outputs": [],
   "source": [
    "W_1 = pre_svd.split_image_into_blocks(W1.reshape(dims,order='F'),k)\n",
    "W_2 = pre_svd.split_image_into_blocks(W2.reshape(dims,order='F'),k)\n",
    "W_3 = pre_svd.split_image_into_blocks(W3.reshape(dims,order='F'),k)"
   ]
  },
  {
   "cell_type": "code",
   "execution_count": null,
   "metadata": {},
   "outputs": [],
   "source": [
    "dim_block = np.asarray(list(map(np.shape,W_1)))\n",
    "cols, rows = dim_block.T[0],dim_block.T[1]"
   ]
  },
  {
   "cell_type": "code",
   "execution_count": null,
   "metadata": {},
   "outputs": [],
   "source": [
    "K = int(np.sqrt(len(dim_block)))\n",
    "row_array = np.insert(rows[::K+1],0,0).cumsum()\n",
    "col_array = np.insert(cols[::K+1],0,0).cumsum()\n",
    "x,y = np.meshgrid(row_array[:-1],col_array[:-1])\n",
    "\n",
    "r_offset = np.diff(row_array)//2\n",
    "c_offset = np.diff(col_array)//2\n",
    "row_cut = row_array[:-1]+r_offset\n",
    "col_cut = col_array[:-1]+c_offset\n",
    "\n",
    "dims_rs = W1.reshape(dims,order='F')[:,row_cut[0]:row_cut[-1],:].shape\n",
    "dims_cs = W1.reshape(dims,order='F')[col_cut[0]:col_cut[-1],:,:].shape\n",
    "dims_rcs = W1.reshape(dims,order='F')[col_cut[0]:col_cut[-1],row_cut[0]:row_cut[-1],:].shape"
   ]
  },
  {
   "cell_type": "code",
   "execution_count": null,
   "metadata": {},
   "outputs": [],
   "source": [
    "np.savez('baylor_3D_dinfo.npz',dims=dims,W1=W1,mean_px1=mean_px1, nl1=nl1,\n",
    "        W2=W2,mean_px2=mean_px2, nl2=nl2,\n",
    "        W3=W3,mean_px3=mean_px3, nl3=nl3)"
   ]
  },
  {
   "cell_type": "code",
   "execution_count": null,
   "metadata": {},
   "outputs": [],
   "source": [
    "W_rs1,W_cs1,W_rcs1 =  extract_off(W1.reshape(dims,order='F'),r_offset,c_offset,row_cut,col_cut)\n",
    "W_rs2,W_cs2,W_rcs2 =  extract_off(W2.reshape(dims,order='F'),r_offset,c_offset,row_cut,col_cut)\n",
    "W_rs3,W_cs3,W_rcs3 =  extract_off(W3.reshape(dims,order='F'),r_offset,c_offset,row_cut,col_cut)"
   ]
  },
  {
   "cell_type": "code",
   "execution_count": null,
   "metadata": {},
   "outputs": [],
   "source": [
    "def merged_voxel_denoiser(W_cs1,W_cs2,W_cs3):\n",
    "    \"\"\"\n",
    "    \n",
    "    \"\"\"\n",
    "    start=time.time()\n",
    "    pool = multiprocessing.Pool()\n",
    "    args = [[np.concatenate(ps,axis=0)] for ii,ps in enumerate(zip(W_cs1,W_cs2,W_cs3))]\n",
    "    c_outs = pool.starmap(pre_svd.svd_patch,args)\n",
    "    pool.close()\n",
    "    pool.join()\n",
    "    print('Run for %f'%(time.time()-start))\n",
    "    \n",
    "    Yds = [out_[0] for out_ in c_outs]\n",
    "    vtids = [out_[1] for out_ in c_outs]\n",
    "    idx_=np.cumsum([np.shape(x)[1] for x in [W_cs1,W_cs2,W_cs3]])[:-1]\n",
    "    a = [np.split(x,idx_,axis=0) for x in Yds]\n",
    "    \n",
    "    dW1_cs = [a_[0] for a_ in a]\n",
    "    dW2_cs = [a_[1] for a_ in a]\n",
    "    dW3_cs = [a_[2] for a_ in a]\n",
    "    \n",
    "    return dW1_cs,dW2_cs,dW3_cs,vtids"
   ]
  },
  {
   "cell_type": "code",
   "execution_count": null,
   "metadata": {},
   "outputs": [],
   "source": [
    "dW_1,dW_2,dW_3,rank_dW = merged_voxel_denoiser(W_1,W_2,W_3)\n",
    "_ = pre_svd.cn_ranks_plot(list(map(np.shape,W_1)),rank_dW,dims[:2])"
   ]
  },
  {
   "cell_type": "code",
   "execution_count": null,
   "metadata": {},
   "outputs": [],
   "source": [
    "np.savez('baylor_3D_d1.npz',dW_1=dW_1,dW_2=dW_2,dW_3=dW_3,rank_dW=rank_dW)"
   ]
  },
  {
   "cell_type": "code",
   "execution_count": null,
   "metadata": {},
   "outputs": [],
   "source": [
    "dW_1r = pre_svd.combine_blocks(dims,dW_1,list_order='C')\n",
    "dW_2r = pre_svd.combine_blocks(dims,dW_2,list_order='C')\n",
    "dW_3r = pre_svd.combine_blocks(dims,dW_3,list_order='C')"
   ]
  },
  {
   "cell_type": "code",
   "execution_count": null,
   "metadata": {},
   "outputs": [],
   "source": [
    "dW_rs1,dW_rs2,dW_rs3,rank_W_rs = merged_voxel_denoiser(W_rs1,W_rs2,W_rs3)"
   ]
  },
  {
   "cell_type": "code",
   "execution_count": null,
   "metadata": {},
   "outputs": [],
   "source": [
    "np.savez('baylor_3D_d2_rs.npz',dW_rs1=dW_rs1,dW_rs2=dW_rs2,dW_rs3=dW_rs3,rank_W_rs=rank_W_rs)"
   ]
  },
  {
   "cell_type": "code",
   "execution_count": null,
   "metadata": {},
   "outputs": [],
   "source": [
    "_ = pre_svd.cn_ranks_plot(list(map(np.shape,W_rs1)),rank_W_rs,dims_rs[:2])\n",
    "dW_rs1r = pre_svd.combine_blocks(dims_rs,dW_rs1,list_order='F')\n",
    "dW_rs2r = pre_svd.combine_blocks(dims_rs,W_rs2,list_order='F')\n",
    "dW_rs3r = pre_svd.combine_blocks(dims_rs,W_rs3,list_order='F')"
   ]
  },
  {
   "cell_type": "code",
   "execution_count": null,
   "metadata": {},
   "outputs": [],
   "source": [
    "dW_cs1,dW_cs2,dW_cs3,rank_W_cs = merged_voxel_denoiser(W_cs1,W_cs2,W_cs3)"
   ]
  },
  {
   "cell_type": "code",
   "execution_count": null,
   "metadata": {},
   "outputs": [],
   "source": [
    "np.savez('baylor_3D_d3_cs.npz',dW_cs1=dW_cs1,dW_cs2=dW_cs2,dW_cs3=dW_cs3,rank_W_cs=rank_W_cs)"
   ]
  },
  {
   "cell_type": "code",
   "execution_count": null,
   "metadata": {},
   "outputs": [],
   "source": [
    "_ = pre_svd.cn_ranks_plot(list(map(np.shape,W_cs1)),rank_W_cs,dims_cs[:2])"
   ]
  },
  {
   "cell_type": "code",
   "execution_count": null,
   "metadata": {},
   "outputs": [],
   "source": [
    "dW_cs1r = pre_svd.combine_blocks(dims_cs,dW_cs1,list_order='F')\n",
    "dW_cs2r = pre_svd.combine_blocks(dims_cs,dW_cs2,list_order='F')\n",
    "dW_cs3r = pre_svd.combine_blocks(dims_cs,dW_cs3,list_order='F')"
   ]
  },
  {
   "cell_type": "code",
   "execution_count": null,
   "metadata": {},
   "outputs": [],
   "source": [
    "dW_rcs1,dW_rcs2,dW_rcs3,rank_W_rcs = merged_voxel_denoiser(W_rcs1,W_rcs2,W_rcs3)"
   ]
  },
  {
   "cell_type": "code",
   "execution_count": null,
   "metadata": {},
   "outputs": [],
   "source": [
    "_ = pre_svd.cn_ranks_plot(list(map(np.shape,W_rcs1)),rank_W_rcs,dims_rcs[:2])\n",
    "dW_rcs1r = pre_svd.combine_blocks(dims_cs,dW_rcs1,list_order='F')\n",
    "dW_rcs2r = pre_svd.combine_blocks(dims_cs,dW_rcs2,list_order='F')\n",
    "dW_rcs3r = pre_svd.combine_blocks(dims_cs,dW_rcs3,list_order='F')"
   ]
  },
  {
   "cell_type": "code",
   "execution_count": null,
   "metadata": {},
   "outputs": [],
   "source": [
    "np.savez('baylor_3D_d4_rcs.npz',dW_rcs1=dW_rcs1,dW_rcs2=dW_rcs2,dW_rcs3=dW_rcs3,rank_W_rcs=rank_W_rcs)"
   ]
  },
  {
   "cell_type": "code",
   "execution_count": null,
   "metadata": {},
   "outputs": [],
   "source": [
    "W1_four = pre_svd.combine_4xd(dims,row_cut,col_cut,dW_1,dW_rs1,dW_cs1,dW_rcs1)\n",
    "W2_four = pre_svd.combine_4xd(dims,row_cut,col_cut,dW_2,dW_rs2,dW_cs2,dW_rcs2)\n",
    "W3_four = pre_svd.combine_4xd(dims,row_cut,col_cut,dW_3,dW_rs3,dW_cs3,dW_rcs3)"
   ]
  },
  {
   "cell_type": "code",
   "execution_count": null,
   "metadata": {},
   "outputs": [],
   "source": [
    "M1.play(gain=1,magnification=5)"
   ]
  },
  {
   "cell_type": "code",
   "execution_count": null,
   "metadata": {},
   "outputs": [],
   "source": [
    "# Visualize local correlation\n",
    "def show_img(ax, img,vmin=None,vmax=None):\n",
    "    from mpl_toolkits.axes_grid1 import make_axes_locatable\n",
    "    im = ax.imshow(img,vmin=vmin,vmax=vmax,cmap='jet')\n",
    "    divider = make_axes_locatable(ax)\n",
    "    cax = divider.append_axes(\"bottom\", size=\"5%\", pad=0.05)\n",
    "    if np.abs(img.min())< 1:\n",
    "        format_tile ='%.2f'\n",
    "    else:\n",
    "        format_tile ='%5d'\n",
    "    plt.colorbar(im, cax=cax,orientation='horizontal',\n",
    "                 spacing='uniform',format=format_tile)#'%.2f') # %3d for 2p"
   ]
  },
  {
   "cell_type": "code",
   "execution_count": null,
   "metadata": {},
   "outputs": [],
   "source": [
    "np.savez('baylor_3D_dx4.npz',W1_four=W1_four,W2_four=W2_four,W3_four=W3_four)"
   ]
  },
  {
   "cell_type": "code",
   "execution_count": null,
   "metadata": {},
   "outputs": [],
   "source": [
    "import matplotlib.pyplot as plt\n",
    "\n",
    "cn_see = [W3.reshape(dims,order='F'),W3_four,W3.reshape(dims,order='F')-W3_four]#[M,Yd_,M-Yd_]\n",
    "for array in cn_see:\n",
    "    # LOCAL CORRELATION\n",
    "    if not type(array)==cm.base.movies.movie:\n",
    "        Cn_pre = cm.movie(array.transpose([2,0,1]))\n",
    "    else:\n",
    "        Cn_pre = array.transpose([2,0,1])\n",
    "    #Cn = Cn_pre.local_correlations(swap_dim=False)\n",
    "    Cn, _ = cm.summary_images.correlation_pnr(array, gSig=None, center_psf=False) # 10 no ds\n",
    "    print ('min {},  max {}'.format(array.min(),array.max()))\n",
    "    # VARIANCE\n",
    "    #Cn = array.var(2)/array.shape[2]\n",
    "    # PNR\n",
    "    #_, Cn = cm.summary_images.correlation_pnr(array, gSig=None, center_psf=False)\n",
    "    print(Cn.min())\n",
    "    fig = plt.figure(figsize=(10,5))\n",
    "    ax = plt.axes()\n",
    "    ax.axis('off')\n",
    "    show_img(ax, Cn)#,vmin=Cn.min(),vmax=Cn.max())\n",
    "    #fig = plt.gcf()\n",
    "    #fig.set_size_inches(40, 8)\n",
    "    plt.tight_layout()\n",
    "    plt.show()"
   ]
  },
  {
   "cell_type": "code",
   "execution_count": null,
   "metadata": {},
   "outputs": [],
   "source": [
    "M1 = cm.movie(np.asarray(W1.reshape(dims,order='F')).transpose([2,0,1]))[:,30:60,30:60]\n",
    "M2 = cm.movie(np.asarray(W2.reshape(dims,order='F')).transpose([2,0,1]))[:,30:60,30:60]\n",
    "M3 = cm.movie(np.asarray(W3.reshape(dims,order='F')).transpose([2,0,1]))[:,30:60,30:60]\n",
    "\n",
    "M4 = cm.movie(np.asarray(W1_four).transpose([2,0,1]))[:,30:60,30:60]\n",
    "M5 = cm.movie(np.asarray(W2_four).transpose([2,0,1]))[:,30:60,30:60]\n",
    "M6 = cm.movie(np.asarray(W3_four).transpose([2,0,1]))[:,30:60,30:60]\n",
    "\n",
    "M7  = M1 - M4\n",
    "M8  = M2 - M5\n",
    "M9  = M3 - M6\n",
    "\n",
    "if True:\n",
    "    M1 = M1-M1.min(0,keepdims=True)\n",
    "    M2 = M2-M2.min(0,keepdims=True)\n",
    "    M3 = M3-M3.min(0,keepdims=True)\n",
    "    M4 = M4-M4.min(0,keepdims=True)\n",
    "    M5 = M5-M5.min(0,keepdims=True)\n",
    "    M6 = M6-M6.min(0,keepdims=True)\n",
    "    M7 = M7-M7.min(0,keepdims=True)\n",
    "    M8 = M8-M8.min(0,keepdims=True)\n",
    "    M9 = M9-M9.min(0,keepdims=True)\n",
    "\n",
    "if False:\n",
    "    max_ = max(list(map(np.amax,[M1,M2,M3])))[()]\n",
    "    M1 = M1*max_/M1.max()\n",
    "    M2 = M2*max_/M2.max()\n",
    "    M3 = M3*max_/M3.max()\n",
    "\n",
    "cm.concatenate([\n",
    "    cm.concatenate([M1,M4,M7],axis=2),\n",
    "    cm.concatenate([M2,M5,M8],axis=2),\n",
    "    cm.concatenate([M3,M6,M9],axis=2)],axis=1)[500:,:,:].play(gain=2,magnification=10)"
   ]
  },
  {
   "cell_type": "code",
   "execution_count": null,
   "metadata": {},
   "outputs": [],
   "source": []
  }
 ],
 "metadata": {
  "kernelspec": {
   "display_name": "Python 3",
   "language": "python",
   "name": "python3"
  },
  "language_info": {
   "codemirror_mode": {
    "name": "ipython",
    "version": 3
   },
   "file_extension": ".py",
   "mimetype": "text/x-python",
   "name": "python",
   "nbconvert_exporter": "python",
   "pygments_lexer": "ipython3",
   "version": "3.6.3"
  }
 },
 "nbformat": 4,
 "nbformat_minor": 2
}
